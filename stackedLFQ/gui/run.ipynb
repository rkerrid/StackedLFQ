{
 "cells": [
  {
   "cell_type": "code",
   "execution_count": 9,
   "id": "08c704bd-fbd6-4331-8784-a5b3338c1299",
   "metadata": {},
   "outputs": [
    {
     "ename": "NameError",
     "evalue": "name 'PageTwo' is not defined",
     "output_type": "error",
     "traceback": [
      "\u001b[1;31m---------------------------------------------------------------------------\u001b[0m",
      "\u001b[1;31mNameError\u001b[0m                                 Traceback (most recent call last)",
      "Cell \u001b[1;32mIn[9], line 3\u001b[0m\n\u001b[0;32m      1\u001b[0m \u001b[38;5;28;01mfrom\u001b[39;00m \u001b[38;5;21;01mapp\u001b[39;00m \u001b[38;5;28;01mimport\u001b[39;00m App\n\u001b[1;32m----> 3\u001b[0m app \u001b[38;5;241m=\u001b[39m App()\n\u001b[0;32m      4\u001b[0m app\u001b[38;5;241m.\u001b[39mmainloop()\n",
      "File \u001b[1;32mK:\\Code\\stackedLFQ\\StackedLFQ\\stackedLFQ\\gui\\app.py:98\u001b[0m, in \u001b[0;36mApp.__init__\u001b[1;34m(self)\u001b[0m\n\u001b[0;32m     95\u001b[0m \u001b[38;5;28mself\u001b[39m\u001b[38;5;241m.\u001b[39mcontainer\u001b[38;5;241m.\u001b[39mgrid_rowconfigure(\u001b[38;5;241m0\u001b[39m, weight\u001b[38;5;241m=\u001b[39m\u001b[38;5;241m1\u001b[39m)\n\u001b[0;32m     97\u001b[0m \u001b[38;5;66;03m# Pages\u001b[39;00m\n\u001b[1;32m---> 98\u001b[0m \u001b[38;5;28mself\u001b[39m\u001b[38;5;241m.\u001b[39mpage_classes \u001b[38;5;241m=\u001b[39m (PageOne, PageTwo, )\n\u001b[0;32m     99\u001b[0m \u001b[38;5;28mself\u001b[39m\u001b[38;5;241m.\u001b[39mpages \u001b[38;5;241m=\u001b[39m []\n\u001b[0;32m    100\u001b[0m \u001b[38;5;28mself\u001b[39m\u001b[38;5;241m.\u001b[39mcurrent_page \u001b[38;5;241m=\u001b[39m \u001b[38;5;241m0\u001b[39m\n",
      "\u001b[1;31mNameError\u001b[0m: name 'PageTwo' is not defined"
     ]
    }
   ],
   "source": [
    "from app import App\n",
    "\n",
    "app = App()\n",
    "app.mainloop()"
   ]
  },
  {
   "cell_type": "code",
   "execution_count": null,
   "id": "62e2d099-1fc2-4ce2-8d40-504e740273cf",
   "metadata": {},
   "outputs": [],
   "source": []
  }
 ],
 "metadata": {
  "kernelspec": {
   "display_name": "Python 3 (ipykernel)",
   "language": "python",
   "name": "python3"
  },
  "language_info": {
   "codemirror_mode": {
    "name": "ipython",
    "version": 3
   },
   "file_extension": ".py",
   "mimetype": "text/x-python",
   "name": "python",
   "nbconvert_exporter": "python",
   "pygments_lexer": "ipython3",
   "version": "3.12.3"
  }
 },
 "nbformat": 4,
 "nbformat_minor": 5
}
